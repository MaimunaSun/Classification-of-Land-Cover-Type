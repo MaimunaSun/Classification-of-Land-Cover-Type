{
 "cells": [
  {
   "cell_type": "code",
   "execution_count": 1,
   "id": "e04b000d",
   "metadata": {},
   "outputs": [],
   "source": [
    "#IMPORT DEPENDENCIES\n",
    "import numpy as np\n",
    "import pandas as pd\n",
    "import matplotlib.pyplot as plt\n",
    "from sklearn.svm import SVC\n",
    "from sklearn.metrics import accuracy_score\n",
    "from sklearn.metrics import classification_report\n",
    "import collections\n",
    "from sklearn.metrics import confusion_matrix\n",
    "from sklearn.metrics import confusion_matrix, ConfusionMatrixDisplay\n",
    "from sklearn.naive_bayes import GaussianNB\n",
    "from sklearn.neural_network import MLPClassifier"
   ]
  },
  {
   "cell_type": "code",
   "execution_count": 2,
   "id": "2a0cac38",
   "metadata": {},
   "outputs": [],
   "source": [
    "#import dataset\n",
    "DATA = pd.read_csv(\"train.csv\")\n",
    "#Drop the ID Column\n",
    "DATA = DATA.drop('Id', axis = 1)\n",
    "#Make sure Data is in place\n",
    "DATA.sort_index(inplace = True)\n",
    "\n",
    "#Extract the features of the DataSet\n",
    "features = DATA.drop('Cover_Type', axis = 1)\n",
    "\n",
    "#Extract the target(Cover Type) that needs to be predicted\n",
    "target = DATA.Cover_Type\n",
    "\n",
    "#split the data into test and train data\n",
    "features_train, target_train = features[0:12096], target[0:12096]\n",
    "features_test, target_test = features[12096:], target[12096:]"
   ]
  },
  {
   "cell_type": "code",
   "execution_count": null,
   "id": "95d57727",
   "metadata": {},
   "outputs": [],
   "source": [
    "#Create a Gaussian Naive Bayes Classifier\n",
    "Gmodel = GaussianNB()\n",
    "#Train the model using the training dataset\n",
    "Gmodel.fit(features_train, target_train)\n",
    "\n",
    "#Create SVM Classifier\n",
    "#SVC Classifier\n",
    "Smodel = SVC(kernel = 'linear', probability = True)\n",
    "#Train the model using the training dataset\n",
    "Smodel.fit(features_train, target_train)\n",
    "\n",
    "#Create MLP Deep Neural Network Classifier\n",
    "Dmodel = MLPClassifier(hidden_layer_sizes=(150,100,50,20), max_iter=301,activation = 'relu',solver='adam', random_state=0)\n",
    "#Train the model using the training dataset\n",
    "Dmodel.fit(features_train, target_train)"
   ]
  },
  {
   "cell_type": "code",
   "execution_count": null,
   "id": "a1dd48d3",
   "metadata": {},
   "outputs": [],
   "source": [
    "#R0C PLOT DEPENDENCIES\n",
    "import numpy as np\n",
    "import matplotlib.pyplot as plt\n",
    "import pandas as pd\n",
    "import seaborn as sns\n",
    "import sklearn\n",
    "\n",
    "from sklearn import metrics\n",
    "from sklearn import datasets\n",
    "from sklearn.datasets import load_iris\n",
    "from sklearn.model_selection import train_test_split\n",
    "from sklearn import svm, datasets \n",
    "from sklearn.model_selection import train_test_split \n",
    "from sklearn.metrics import roc_curve, roc_auc_score\n",
    "from sklearn.metrics import plot_roc_curve, auc\n",
    "from sklearn.neural_network import MLPClassifier\n",
    "from sklearn.naive_bayes import GaussianNB\n",
    "from sklearn import svm\n",
    "from sklearn.multiclass import OneVsRestClassifier\n",
    "from sklearn.preprocessing import label_binarize\n",
    "from sklearn.model_selection import train_test_split\n",
    "import matplotlib.pyplot as plt"
   ]
  },
  {
   "cell_type": "code",
   "execution_count": null,
   "id": "b3d0617c",
   "metadata": {},
   "outputs": [],
   "source": [
    "#set up plotting area\n",
    "plt.figure(0).clf()\n",
    "\n",
    "#Gaussian Naive Bayes Classifier\n",
    "y_pred = Gmodel.predict_proba(features_test)[:,1]\n",
    "fpr,tpr, threshold = roc_curve(target_test, y_pred, pos_label = 1)\n",
    "plt.plot(fpr,tpr,label = \"Gaussian Naive Bayes\")#+ str(auc))\n",
    "\n",
    "#Suport Vector Classifier\n",
    "y_pred = Smodel.predict(features_test)[:,1]\n",
    "fpr,tpr, _ = roc_curve(target_test, y_pred[:,1], pos_label=1)\n",
    "plt.plot(fpr,tpr,label = \"Support Vector Machine,AUC\")# + str(auc))\n",
    "\n",
    "# MLP Deep Neural Network\n",
    "prediction = Dmodel.predict_proba(features_test)[:,1]\n",
    "fpr,tpr, _ = roc_curve(target_test, prediction, pos_label =1)\n",
    "plt.plot(fpr,tpr,label = \"Deep Neural Network\")#+ str(auc))\n",
    "\n",
    "plt.legend()\n",
    "plt.xlabel('False Positive Rate')\n",
    "plt.ylabel('True Positive Rate')\n",
    "plt.title('Receiver Operating Characteristic(ROC Curve)')"
   ]
  },
  {
   "cell_type": "code",
   "execution_count": null,
   "id": "68b0c011",
   "metadata": {},
   "outputs": [],
   "source": [
    "#AUC ROC FOR GUASSIAN NAIVE BAYES CLASSIFIER\n",
    "y_prob = Gmodel.predict_proba(features_test)\n",
    "\n",
    "macro_roc_auc_ovr = roc_auc_score(target_test, y_prob, multi_class=\"ovr\", average=\"macro\")\n",
    "weighted_roc_auc_ovr = roc_auc_score(\n",
    "    target_test, y_prob, multi_class=\"ovr\", average=\"weighted\"\n",
    ")\n",
    "\n",
    "print(\n",
    "    \"One-vs-Rest ROC AUC  scores:\\n{:.6f} (macro),\\n{:.6f} \"\n",
    "    \"(weighted by prevalence)\".format(macro_roc_auc_ovr, weighted_roc_auc_ovr)\n",
    ")"
   ]
  },
  {
   "cell_type": "code",
   "execution_count": null,
   "id": "a14abe2f",
   "metadata": {},
   "outputs": [],
   "source": [
    "#AUC ROC MLP DEEP NEURAL NETWORK CLASSIFIER\n",
    "y_prob = Dmodel.predict_proba(features_test)\n",
    "\n",
    "macro_roc_auc_ovr = roc_auc_score(target_test, y_prob, multi_class=\"ovr\", average=\"macro\")\n",
    "weighted_roc_auc_ovr = roc_auc_score(\n",
    "    target_test, y_prob, multi_class=\"ovr\", average=\"weighted\"\n",
    ")\n",
    "\n",
    "print(\n",
    "    \"One-vs-Rest ROC AUC scores:\\n{:.6f} (macro),\\n{:.6f} \"\n",
    "    \"(weighted by prevalence)\".format(macro_roc_auc_ovr, weighted_roc_auc_ovr)\n",
    ")"
   ]
  },
  {
   "cell_type": "code",
   "execution_count": null,
   "id": "6cad2e7d",
   "metadata": {},
   "outputs": [],
   "source": [
    "#AUC ROC FOR SVC\n",
    "y_prob = Smodel.predict_proba(features_test)\n",
    "\n",
    "macro_roc_auc_ovr = roc_auc_score(target_test, y_prob, multi_class=\"ovr\", average=\"macro\")\n",
    "weighted_roc_auc_ovr = roc_auc_score(\n",
    "    target_test, y_prob, multi_class=\"ovr\", average=\"weighted\"\n",
    ")\n",
    "\n",
    "print(\n",
    "    \"One-vs-Rest ROC AUC scores:\\n{:.6f} (macro),\\n{:.6f} \"\n",
    "    \"(weighted by prevalence)\".format(macro_roc_auc_ovr, weighted_roc_auc_ovr)\n",
    ")"
   ]
  },
  {
   "cell_type": "code",
   "execution_count": null,
   "id": "804dca84",
   "metadata": {},
   "outputs": [],
   "source": []
  },
  {
   "cell_type": "code",
   "execution_count": null,
   "id": "707f2a55",
   "metadata": {},
   "outputs": [],
   "source": []
  }
 ],
 "metadata": {
  "kernelspec": {
   "display_name": "Python 3 (ipykernel)",
   "language": "python",
   "name": "python3"
  },
  "language_info": {
   "codemirror_mode": {
    "name": "ipython",
    "version": 3
   },
   "file_extension": ".py",
   "mimetype": "text/x-python",
   "name": "python",
   "nbconvert_exporter": "python",
   "pygments_lexer": "ipython3",
   "version": "3.9.12"
  }
 },
 "nbformat": 4,
 "nbformat_minor": 5
}
